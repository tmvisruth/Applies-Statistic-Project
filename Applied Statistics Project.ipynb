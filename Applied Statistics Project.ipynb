import pandas as pd
import numpy as np
import matplotlib.pyplot as plt
import seaborn as sns
import scipy.stats as stats
from scipy.stats import ttest_ind  

%matplotlib inline

Refer above table and find the joint probability of the people who planned to purchase and actually placed an order.

400/2000

Refer to the above table and find the joint probability of the people who planned to purchase and actually placed an order, given that
people planned to purchase.

400/500

An electrical manufacturing company conducts quality checks at specified periods on the products it manufactures. Historically, the
failure rate for the manufactured item is 5%. Suppose a random sample of 10 manufactured items is selected. Answer the following
questions.

k=np.arange(0,11)
n=10
p=0.05
emc=stats.binom.pmf(k,n,p)
emc

Probability that none of the items are defective?

emc[0]

Probability that exactly one of the items is defective?

emc[1]

Probability that two or fewer of the items are defective?

stats.binom.cdf(2,n,p)

Probability that three or more of the items are defective ?

1-stats.binom.cdf(2,n,p)

A car salesman sells on an average 3 cars per week.

What is Probability that in a given week he will sell some cars?

rate = 3
n=np.arange(0,10)
cars = stats.poisson.pmf(n,rate)
1-cars[0]

What is Probability that in a given week he will sell 2 or more but less than 5 cars?

cars[2]+cars[3]+cars[4]

Plot the poisson distribution function for cumulative probability of cars sold per-week vs number of cars sold per week.

cuml = stats.poisson.cdf(n,rate) 
plt.bar(n,cuml)
plt.title('Poisson Distribution',size = 18)
plt.xlabel('Number of car sold per week',size = 12)
plt.ylabel('Probability of cars sold per-week',size = 12);

Accuracy in understanding orders for a speech based bot at a restaurant is important for the Company X which has designed,
marketed and launched the product for a contactless delivery due to the COVID-19 pandemic. Recognition accuracy that measures the
percentage of orders that are taken correctly is 86.8%. Suppose that you place an order with the bot and two friends of yours
independently place orders with the same bot. Answer the following questions.

n =3 
p=0.868
k=np.arange(0,11)
binom=stats.binom.pmf(k,n,p)

What is the probability that all three orders will be recognised correctly?

stats.binom.pmf(3, n, p)

What is the probability that none of the three orders will be recognised correctly?

binom[0]

What is the probability that at least two of the three orders will be recognised correctly?

1-stats.binom.cdf(1,n,p)

Applied statistics is a very important tool to predict the future and reduce the uncertainty. 
Consider an automoble parts manufacturing factory. Cpk (Process Capability Indice) use to measure the quality of the process. In Cpk measurement it takes a sample of more than 30 manufactured part and inspect every quality parameter. with the data collected during inspection will be analysed and estimate the population quality. Cpk helps to take decisions such as improvement in process, probability of rejection, so on.
T distribution, estimation technics are used in Cpk. 
Apart from Cpk manufacturing industry used other statistics and probability functions in planning, scheduling, and other various decision making. 

Company X manages the men's top professional basketball division of the American league system. The dataset contains information
on all the teams that have participated in all the past tournaments. It has data about how many baskets each team scored, conceded, how many
times they came within the first 2 positions, how many tournaments they have qualified, their best position in the past, etc.

basketball = pd.read_csv('C:/Visruth TM/Personal data/Great Learning/AIML/Applied Statitics/Project/DS+-+Part2+-+Basketball.csv')

basketball.head()

basketball.tail()

basketball.shape

basketball.replace(to_replace='-', value=0, inplace=True)

basketball['TeamLaunch'] = basketball['TeamLaunch'].apply(lambda year: str(year)[:4])

columns = basketball.columns
basketball[columns[1:]] = basketball[columns[1:]].astype('int64')

basketball.info()

basketball.describe().T

noresult = basketball['PlayedGames'] - (basketball['DrawnGames'] + basketball['WonGames'] + basketball['LostGames'])
basketball.insert(loc=7, column='No Result', value=noresult)

winper = basketball['WonGames']/(basketball['PlayedGames']-basketball['No Result'])
basketball.insert(loc=5,column='WonPercentage', value = winper)

lostper= basketball['LostGames']/(basketball['PlayedGames']-basketball['No Result'])
basketball.insert(loc=8,column="LostPercentage", value = lostper) 

winrat= basketball['WonGames']/ basketball['LostGames']
basketball.insert(loc=10,column="WonRatio", value = winrat)    

bskratio= basketball['BasketScored']/ basketball['BasketGiven']
basketball.insert(loc=13,column="BasketRatio", value = bskratio) 

chpper= basketball['TournamentChampion']/ (basketball['PlayedGames']-basketball['No Result'])
basketball.insert(loc=15,column="ChampionPercentage", value = chpper)  

basketball.replace(to_replace='-', value=0, inplace=True)

basketball.head()

basketball.tail()

basketball.describe().T

plt.figure(figsize=(50,8))
plt.xticks(rotation=90)
sns.barplot(x=basketball['Team'],y= basketball['Tournament']);

plt.figure(figsize=(25,10))
plt.subplot(1,2,1)
wonsort=basketball[['Team','WonGames']].sort_values(by="WonGames", ascending=False)
lostsort=basketball[['Team','LostGames']].sort_values(by="LostGames", ascending=False)
plt.pie(wonsort['WonGames'], labels=list(wonsort['Team']));
plt.title('Won Games')
plt.subplot(1,2,2)
plt.pie(lostsort['LostGames'], labels=list(lostsort['Team']));
plt.title('Lost Games');

plt.figure(figsize=(25,10))
plt.subplot(1,2,1)
bskscor=basketball[['Team','BasketScored']].sort_values(by="BasketScored", ascending=False)
bskgiv=basketball[['Team','BasketGiven']].sort_values(by="BasketGiven", ascending=False)
plt.pie(bskscor['BasketScored'], labels=list(bskscor['Team']));
plt.title('BasketScored')
plt.subplot(1,2,2)
plt.pie(bskgiv['BasketGiven'], labels=list(bskgiv['Team']));
plt.title('BasketGiven');

plt.figure(figsize=(30,10))
plt.xticks(rotation=90,size=20)
plt.yticks(size=20)
plt.xlabel('Team',size=25)
plt.ylabel('Score',size=25)
sns.barplot(data=basketball,x='Team', y='Score',orient = 'v');

plt.figure(figsize=(20,8))
chp= basketball[['Team','TournamentChampion']].sort_values(by="TournamentChampion", ascending=False).where(lambda x: x["TournamentChampion"] > 0);
sns.scatterplot(x=chp['Team'],y=chp['TournamentChampion']);
plt.xticks(rotation=90);

plt.figure(figsize=(20,8))
chp= basketball[['Team','TournamentChampion']].sort_values(by="TournamentChampion", ascending=False).where(lambda x: x["TournamentChampion"] > 0);
sns.scatterplot(x=chp['Team'],y=chp['TournamentChampion'],);
plt.xticks(rotation=90);

plt.figure(figsize=(20,7))
rnup= basketball[['Team','Runner-up']].sort_values(by="Runner-up", ascending=False).where(lambda x: x["Runner-up"] > 0);
sns.barplot(x=rnup['Team'],y=rnup['Runner-up']);
plt.xticks(rotation=90);

plt.figure(figsize=(20,7))
plt.xlabel('Team',size=15)
plt.ylabel('WonPercentage',size=15)
sns.barplot(x=basketball['Team'],y=basketball['WonPercentage']);
plt.xticks(rotation=90,size=15);

plt.figure(figsize=(20,7))
plt.xlabel('Team',size=15)
plt.ylabel('LostPercentage',size=15)
sns.barplot(x=basketball['Team'],y=basketball['LostPercentage']);
plt.xticks(rotation=90,size=15);

plt.figure(figsize=(20,7))
plt.xlabel('Team',size=15)
plt.ylabel('WonRatio',size=15)
sns.barplot(x=basketball['Team'],y=basketball['WonRatio']);
plt.xticks(rotation=90,size=15);

plt.figure(figsize=(20,7))
plt.xlabel('Team',size=15)
plt.ylabel('basketRatio',size=15)
sns.barplot(x=basketball['Team'],y=basketball['BasketRatio']);
plt.xticks(rotation=90,size=15);

sns.pairplot(data=basketball, vars=['Tournament','Score','PlayedGames','WonGames','DrawnGames','LostGames','BasketScored','BasketGiven','TournamentChampion','Runner-up','TeamLaunch','HighestPositionHeld'], corner=True);

basketball[basketball['Tournament'] == max(basketball['Tournament'])].head(1)

basketball[basketball['WonGames'] == max(basketball['WonGames'])].head(1)

basketball[basketball['LostGames'] == max(basketball['LostGames'])].head(1)

basketball[basketball['WonPercentage'] == max(basketball['WonPercentage'])].head(1)

basketball[basketball['WonRatio'] == max(basketball['WonRatio'])].head(1)

The Oldest Team

basketball[basketball['TeamLaunch'] == min(basketball['TeamLaunch'])].head(5)

basketball[basketball['TournamentChampion'] == max(basketball['TournamentChampion'])].head(1)

basketball[basketball['BasketRatio'] == max(basketball['BasketRatio'])].head(1)

Team 1 is the best among the teams. 

Company X is a EU online publisher focusing on the startups industry. The company specifically reports on the business related to
technology news, analysis of emerging trends and profiling of new tech businesses and products. Their event i.e. Startup Battlefield is the world’s
pre-eminent startup competition. Startup Battlefield features 15-30 top early stage startups pitching top judges in front of a vast live audience,
present in person and online.

company = pd.read_csv('C:/Visruth TM/Personal data/Great Learning/AIML/Applied Statitics/Project/DS+-+Part3+-+CompanyX_EU.csv')

company.head()

company.tail()

company.shape

company.info

company.describe().T

company.dtypes

company.dropna(inplace=True)
company.isnull().sum()

company.Funding

company.loc[:,'Funds_in_million'] =company['Funding'].apply(lambda x: x if x==0 else (float(x[1:-1])/1000 if x[-1] == 'K' else (float(x[1:-1])*1000 if x[-1] == 'B' else float(x[1:-1]))))

company.describe().T

plt.title('Boxplot:Funds_in_million')
plt.xlabel('Funds_in_million')
sns.boxplot(data=company, x='Funds_in_million');

Q3 = np.percentile(company['Funds_in_million'], 75, interpolation = 'midpoint')
Q1 = np.percentile(company['Funds_in_million'], 25, interpolation = 'midpoint')
iqr=Q3-Q1
iqr

count = company[company['Funds_in_million'] > (Q3 + 1.5 * iqr)].count()
count

company[company['Funds_in_million'] > Q3 + 1.5 * iqr].head(98)

sns.countplot(x=company['OperatingState']);

# Null Hypothesis (H0): There is no significant difference in funds raised between operating and closed companies.

Alternative Hypothesis (Ha): There is a significant difference in funds raised between operating and closed companies.

# C. Test for significance and conclusion
operating_funds = company[company['OperatingState'] == 'Operating']['Funds_in_million']
closed_funds = company[company['OperatingState'] == 'Closed']['Funds_in_million']
t_statistic, p_value = ttest_ind(operating_funds, closed_funds)
print(f'T-statistic: {t_statistic}, P-value: {p_value}')
if p_value < 0.05:
    print('Reject the null hypothesis. There is a significant difference in funds raised.')
else:
    print('Fail to reject the null hypothesis. There is no significant difference in funds raised.')

#copy of the original data frame
company2=company.copy()
company2

#Check frequency distribution of Result variables.
sns.countplot(x='Result', data=company)
plt.title('Count Plot of Result Variable')
plt.show()

win=company[company['Result'] == 'Winner'].count()
win

opr=company[company['OperatingState'] == 'Operating'].count()
opr

cont=company[company['Result'] == 'Contestant'].count()
cont

# Calculate percentage of winners and contestants that are still operating
winners_operating = company[(company['Result'] == 'Winner') & (company['OperatingState'] == 'Operating')].shape[0]
contestants_operating = company[(company['Result'] == 'Contestant') & (company['OperatingState'] == 'Operating')].shape[0]
total_winners = company[company['Result'] == 'Winner'].shape[0]
total_contestants = company[company['Result'] == 'Contestant'].shape[0]

percentage_winners_operating = (winners_operating / total_winners) * 100
percentage_contestants_operating = (contestants_operating / total_contestants) * 100

print(f'Percentage of winners still operating: {percentage_winners_operating:.2f}%')
print(f'Percentage of contestants still operating: {percentage_contestants_operating:.2f}%')


Hypothesis comparing the proportion of companies that are operating between winners and contestants:

Null Hypothesis (H0): The proportion of companies that are still operating is the same for winners and contestants.

Alternative Hypothesis (Ha): The proportion of companies that are still operating differs between winners and contestants.

# Create a contingency table
contingency_table = pd.crosstab(company['Result'], company['OperatingState'])

# Chi-square test for independence
chi2_stat, p_value, _, _ = stats.chi2_contingency(contingency_table)

print(f'Chi-square statistic: {chi2_stat}')
print(f'P-value: {p_value}')

# Set the significance level (alpha)
alpha = 0.05

# Compare p-value to alpha
if p_value < alpha:
    print('Reject the null hypothesis. There is a significant difference in the proportion of companies operating.')
else:
    print('Fail to reject the null hypothesis. There is no significant difference in the proportion of companies operating.')
